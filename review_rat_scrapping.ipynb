{
 "cells": [
  {
   "cell_type": "code",
   "execution_count": 1,
   "metadata": {},
   "outputs": [],
   "source": [
    "import requests\n",
    "import selenium\n",
    "from bs4 import BeautifulSoup\n",
    "from selenium import webdriver\n",
    "from selenium.webdriver.common.keys import Keys\n",
    "from selenium.webdriver.common.by import By\n",
    "import pandas as pd\n",
    "import time\n",
    "from selenium.common.exceptions import NoSuchElementException,StaleElementReferenceException\n",
    "\n",
    "\n",
    "\n",
    "import warnings\n",
    "warnings.filterwarnings('ignore')"
   ]
  },
  {
   "cell_type": "code",
   "execution_count": 2,
   "metadata": {},
   "outputs": [],
   "source": [
    "driver = webdriver.Chrome(\"C:\\\\Users\\\\Umesh Gupta\\\\chromedriver_win32\\\\chromedriver.exe\")"
   ]
  },
  {
   "cell_type": "code",
   "execution_count": 4,
   "metadata": {},
   "outputs": [],
   "source": [
    "driver.get(\"https://www.flipkart.com\")"
   ]
  },
  {
   "cell_type": "code",
   "execution_count": 5,
   "metadata": {},
   "outputs": [],
   "source": [
    "search_box = driver.find_element_by_xpath('//input[@class=\"_3704LK\"]')"
   ]
  },
  {
   "cell_type": "code",
   "execution_count": 6,
   "metadata": {},
   "outputs": [],
   "source": [
    "search_btn = driver.find_element_by_xpath('//div[@class=\"col-12-12 _2oO9oE\"]//button')"
   ]
  },
  {
   "cell_type": "code",
   "execution_count": 7,
   "metadata": {},
   "outputs": [],
   "source": [
    "#parameter for which we need to fetch data\n",
    "key = [\"Smart watches\",\"Phones\",\"Laptop\",\"Professional Camera\",\"Headphones\",\"Printers\",\"Monitors\",\"Router\",\"Home Theatre\"]"
   ]
  },
  {
   "cell_type": "code",
   "execution_count": 10,
   "metadata": {},
   "outputs": [],
   "source": [
    "#fetching urls for scraping data\n",
    "urls = []\n",
    "for i in key:\n",
    "    time.sleep(1)\n",
    "    search_box.clear()\n",
    "    search_box.send_keys(i)\n",
    "    search_btn.click()\n",
    "    time.sleep(3)\n",
    "    #fetch data for only two pages\n",
    "    for pages in range(0,2):\n",
    "        time.sleep(1)\n",
    "        for i in driver.find_elements_by_xpath('//a[@class=\"_1fQZEK\" or @class=\"s1Q9rs\"]'):\n",
    "            urls.append(i.get_attribute('href'))\n",
    "        button=driver.find_elements_by_xpath(\"//*[contains(@class, '_1LKTO3')]\")\n",
    "        time.sleep(1)\n",
    "        for k in button:\n",
    "            if k.text==\"NEXT\":\n",
    "                k.click()\n",
    "                "
   ]
  },
  {
   "cell_type": "code",
   "execution_count": 13,
   "metadata": {},
   "outputs": [
    {
     "data": {
      "text/plain": [
       "500"
      ]
     },
     "execution_count": 13,
     "metadata": {},
     "output_type": "execute_result"
    }
   ],
   "source": [
    "#url fetched\n",
    "url=urls[0:500]\n",
    "len(url)"
   ]
  },
  {
   "cell_type": "code",
   "execution_count": 14,
   "metadata": {},
   "outputs": [],
   "source": [
    "#fetching review and rating\n",
    "Rating = [] # Creating list to store data\n",
    "full_r = []\n",
    "#call every url and click on all review button to fetch review\n",
    "for i in url:\n",
    "    driver.get(i)\n",
    "    time.sleep(3)\n",
    "    try:\n",
    "        all_review =driver.find_element_by_xpath(\"//div[@class='_3UAT2v _16PBlm']//span\")\n",
    "        all_review.click()\n",
    "        time.sleep(2)\n",
    "    except NoSuchElementException:\n",
    "        continue\n",
    "    #fetching review of 10 pages\n",
    "    for i in range(0,9):\n",
    "        try:\n",
    "            for i in driver.find_elements_by_xpath(\"//div[@class='_3LWZlK _1BLPMq' or @class='_3LWZlK _32lA32 _1BLPMq' or @class='_3LWZlK _1rdVr6 _1BLPMq']\"):\n",
    "                if i.text is None:\n",
    "                    Rating.append(\"---\")\n",
    "                else:\n",
    "                    Rating.append(i.text.split()[0])\n",
    "                \n",
    "        except NoSuchElementException or StaleElementReferenceException:\n",
    "            Rating.append(\"---\")  \n",
    "\n",
    "        try:\n",
    "            for i in driver.find_elements_by_xpath(\"//div[@class='t-ZTKy']/div/div\"):\n",
    "                full_r.append(i.text)\n",
    "        except:\n",
    "            None\n",
    "        \n",
    "    \n",
    "        try:\n",
    "            button=driver.find_element_by_xpath(\"//*[contains(text(), 'Next')]\")\n",
    "            driver.execute_script(\"arguments[0].click();\", button)\n",
    "            time.sleep(2)\n",
    "        \n",
    "       \n",
    "        except:\n",
    "             break\n",
    "    "
   ]
  },
  {
   "cell_type": "code",
   "execution_count": 15,
   "metadata": {},
   "outputs": [
    {
     "name": "stdout",
     "output_type": "stream",
     "text": [
      "25544 25544\n"
     ]
    }
   ],
   "source": [
    "#verifying len of review and rating fetched\n",
    "print(len(Rating),len(full_r))"
   ]
  },
  {
   "cell_type": "code",
   "execution_count": 17,
   "metadata": {},
   "outputs": [],
   "source": [
    "#creating dataframe\n",
    "review=pd.DataFrame({\"Review\":full_r,\n",
    "             \"Rating\":Rating})"
   ]
  },
  {
   "cell_type": "code",
   "execution_count": 19,
   "metadata": {
    "scrolled": false
   },
   "outputs": [
    {
     "data": {
      "text/html": [
       "<div>\n",
       "<style scoped>\n",
       "    .dataframe tbody tr th:only-of-type {\n",
       "        vertical-align: middle;\n",
       "    }\n",
       "\n",
       "    .dataframe tbody tr th {\n",
       "        vertical-align: top;\n",
       "    }\n",
       "\n",
       "    .dataframe thead th {\n",
       "        text-align: right;\n",
       "    }\n",
       "</style>\n",
       "<table border=\"1\" class=\"dataframe\">\n",
       "  <thead>\n",
       "    <tr style=\"text-align: right;\">\n",
       "      <th></th>\n",
       "      <th>Review</th>\n",
       "      <th>Rating</th>\n",
       "    </tr>\n",
       "  </thead>\n",
       "  <tbody>\n",
       "    <tr>\n",
       "      <th>0</th>\n",
       "      <td>Bad camera no use average watch</td>\n",
       "      <td>3</td>\n",
       "    </tr>\n",
       "    <tr>\n",
       "      <th>1</th>\n",
       "      <td>It's amazing watch more features is available\\...</td>\n",
       "      <td>3</td>\n",
       "    </tr>\n",
       "    <tr>\n",
       "      <th>2</th>\n",
       "      <td>Love</td>\n",
       "      <td>5</td>\n",
       "    </tr>\n",
       "    <tr>\n",
       "      <th>3</th>\n",
       "      <td>Ghatiya watch ghatiya company dont buy this watch</td>\n",
       "      <td>1</td>\n",
       "    </tr>\n",
       "    <tr>\n",
       "      <th>4</th>\n",
       "      <td>Battery damage</td>\n",
       "      <td>5</td>\n",
       "    </tr>\n",
       "  </tbody>\n",
       "</table>\n",
       "</div>"
      ],
      "text/plain": [
       "                                              Review Rating\n",
       "0                    Bad camera no use average watch      3\n",
       "1  It's amazing watch more features is available\\...      3\n",
       "2                                               Love      5\n",
       "3  Ghatiya watch ghatiya company dont buy this watch      1\n",
       "4                                     Battery damage      5"
      ]
     },
     "execution_count": 19,
     "metadata": {},
     "output_type": "execute_result"
    }
   ],
   "source": [
    "review.head()"
   ]
  },
  {
   "cell_type": "code",
   "execution_count": 20,
   "metadata": {},
   "outputs": [],
   "source": [
    "#saving to csv file\n",
    "review.to_csv(\"review.csv\")"
   ]
  },
  {
   "cell_type": "code",
   "execution_count": null,
   "metadata": {},
   "outputs": [],
   "source": []
  }
 ],
 "metadata": {
  "kernelspec": {
   "display_name": "Python 3",
   "language": "python",
   "name": "python3"
  },
  "language_info": {
   "codemirror_mode": {
    "name": "ipython",
    "version": 3
   },
   "file_extension": ".py",
   "mimetype": "text/x-python",
   "name": "python",
   "nbconvert_exporter": "python",
   "pygments_lexer": "ipython3",
   "version": "3.8.5"
  }
 },
 "nbformat": 4,
 "nbformat_minor": 5
}
